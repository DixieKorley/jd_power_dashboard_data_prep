{
 "cells": [
  {
   "cell_type": "markdown",
   "id": "ab20f39f",
   "metadata": {},
   "source": [
    "# Gas Residential Q2 and YTD Transformation Script\n",
    "<img src=\"images\\img_1.png\" alt=\"banner_1\" size=\"100%\">\n",
    "\n",
    "1. The script `gas_res_transform.ipynb` takes files from `/data_summary` and creates two new Excel files in `/transformed_data`.\n",
    "2. The new files will be named:\n",
    "   - `gas_residential_2025_q2.xlsx`\n",
    "   - `gas_residential_2025_q2_ytd.xlsx`\n",
    "3. The original files in `/data_summary` contain Q2 and YTD data from JD Power's Gas Residential summaries.\n",
    "4. Each new file in `transformed_data` will include around nine data transformations, or nine sheets.\n",
    "5. For more details, check the `notes.docx` file."
   ]
  },
  {
   "cell_type": "markdown",
   "id": "1d949856",
   "metadata": {},
   "source": [
    "## Import the libraries needed"
   ]
  },
  {
   "cell_type": "code",
   "execution_count": 85,
   "id": "4d6a5587",
   "metadata": {},
   "outputs": [],
   "source": [
    "import pandas as pd\n",
    "import numpy as np"
   ]
  },
  {
   "cell_type": "markdown",
   "id": "69dc2551",
   "metadata": {},
   "source": [
    "# Data checker coming soon\n",
    "<img src=\"images\\img_2.png\" alt=\"banner_2\" size=\"100%\">\n",
    "\n",
    "I'll add code later to check if the data summaries are set up correctly from Powersource. I'll also create a checklist too for manual corrections."
   ]
  },
  {
   "cell_type": "code",
   "execution_count": 86,
   "id": "be8f265b",
   "metadata": {},
   "outputs": [],
   "source": [
    "def validate_data(workbook):\n",
    "    print(\"Coming soon!\")"
   ]
  },
  {
   "cell_type": "code",
   "execution_count": 87,
   "id": "74f86fc0",
   "metadata": {},
   "outputs": [
    {
     "name": "stdout",
     "output_type": "stream",
     "text": [
      "Coming soon!\n"
     ]
    }
   ],
   "source": [
    "validate_data(\"workbook\")"
   ]
  },
  {
   "cell_type": "markdown",
   "id": "fbe91e6c",
   "metadata": {},
   "source": [
    "# Repetitive tasks"
   ]
  },
  {
   "cell_type": "markdown",
   "id": "130ee83b",
   "metadata": {},
   "source": [
    "### Renaming these dimensions for the transformed sheets\n",
    "-\tEase - Ease of doing Business\n",
    "-\tCost - Total Monthly Cost\n",
    "-\tSafety - Safety & Reliability\n",
    "-\tResolving Problems - Problem Resolution\n",
    "-\tInfo Provided - Information Provided"
   ]
  },
  {
   "cell_type": "code",
   "execution_count": 88,
   "id": "4f34a6ef",
   "metadata": {},
   "outputs": [],
   "source": [
    "def replace_dimensions(df):\n",
    "    replacements = {\n",
    "    'ease': \"Ease of doing business\",\n",
    "    'cost': \"Total monthly cost\",\n",
    "    'safety': 'Safety and Reliability',\n",
    "    'resolving problems': 'Problem Resolution',\n",
    "    'info provided': 'Information Provided'\n",
    "}\n",
    "    df[\"Dimension\"] = df[\"Dimension\"].apply(lambda x: replacements.get(x.lower(), x))\n",
    "    return df"
   ]
  },
  {
   "cell_type": "markdown",
   "id": "3c343a2e",
   "metadata": {},
   "source": [
    "### Concatenation tables or dataframes within a list if needed\n",
    "Many times the first output from a transformation is a list of multiple dataframes. We often need to merge every two items on a list of dimensions, so I'm setting this up for any output that needs this function. "
   ]
  },
  {
   "cell_type": "code",
   "execution_count": 89,
   "id": "fc039c36",
   "metadata": {},
   "outputs": [],
   "source": [
    "def concat_df_rows(df_list, cols):\n",
    "    if not isinstance(cols,list):\n",
    "        raise TypeError(\"( •_•)🔍 cols variable needs to be a list.\")\n",
    "    merged_pairs = [pd.merge(df_list[i], df_list[i+1], how=\"inner\", on=cols) for i in range(0, len(df_list), 2)]\n",
    "    merged_pairs = pd.concat(merged_pairs, axis=0)\n",
    "    return merged_pairs"
   ]
  },
  {
   "cell_type": "markdown",
   "id": "19291533",
   "metadata": {},
   "source": [
    "### This `process_and_stack` function are for multiple sheets that need to go through one function."
   ]
  },
  {
   "cell_type": "code",
   "execution_count": 90,
   "id": "10b14c41",
   "metadata": {},
   "outputs": [],
   "source": [
    "def process_and_stack(df, names, function, dimensions):\n",
    "    if not isinstance(dimensions, list):\n",
    "        raise TypeError(\"( •_•)🔍 cols variable needs to be a list.\")\n",
    "    all_rows = []\n",
    "    for name in names:\n",
    "        transformed = function(df, name)\n",
    "        all_rows.extend(transformed)\n",
    "    final_df = concat_df_rows(all_rows,dimensions)\n",
    "    return final_df"
   ]
  },
  {
   "cell_type": "markdown",
   "id": "bd2c36d7",
   "metadata": {},
   "source": [
    "## Turn column values to percent"
   ]
  },
  {
   "cell_type": "code",
   "execution_count": 91,
   "id": "b0854659",
   "metadata": {},
   "outputs": [],
   "source": [
    "def turn_to_percent(df, col):\n",
    "    df[col] = df[col].astype(float)\n",
    "    df[col] = np.round(df[col])\n",
    "    df[col] = df[col].astype(int)\n",
    "    return df"
   ]
  },
  {
   "cell_type": "markdown",
   "id": "fe68bd12",
   "metadata": {},
   "source": [
    "# Pull Q2 and YTD data\n",
    "We removed the first sheet by just setting a variable to a slice."
   ]
  },
  {
   "cell_type": "code",
   "execution_count": 92,
   "id": "26e7d039",
   "metadata": {},
   "outputs": [],
   "source": [
    "q_df = pd.read_excel(r\"C:\\Users\\A00126508\\OneDrive - PSEG\\VOC Team - JD Power\\Gas Residential\\JD Power Gas Residential\\data_summary\\q2_data\\JDP Gas Rez Q2 Powersource output 8-1-25 v2.xlsx\", sheet_name=None)\n",
    "ytd_df = pd.read_excel(r\"C:\\Users\\A00126508\\OneDrive - PSEG\\VOC Team - JD Power\\Gas Residential\\JD Power Gas Residential\\data_summary\\ytd_data\\JDP Gas Rez YTD Powersource output 8-1-25.xlsx\", sheet_name=None)"
   ]
  },
  {
   "cell_type": "code",
   "execution_count": 93,
   "id": "383a77a6",
   "metadata": {},
   "outputs": [],
   "source": [
    "q2_sheetnames = list(q_df.keys())[1:]\n",
    "ytd_sheetnames = list(ytd_df.keys())[1:]"
   ]
  },
  {
   "cell_type": "markdown",
   "id": "45f904a7",
   "metadata": {},
   "source": [
    "# Transform Gas Residential Dimension Index\n",
    "This will create the `Toplines` sheet for Q2 and YTD data"
   ]
  },
  {
   "cell_type": "markdown",
   "id": "aaa9d7e6",
   "metadata": {},
   "source": [
    "### Sheet(s)"
   ]
  },
  {
   "cell_type": "code",
   "execution_count": 94,
   "id": "7ec11482",
   "metadata": {},
   "outputs": [],
   "source": [
    "grdi = q2_sheetnames[0]"
   ]
  },
  {
   "cell_type": "code",
   "execution_count": 95,
   "id": "c674187a",
   "metadata": {},
   "outputs": [],
   "source": [
    "grdi_2 = ytd_sheetnames[0]"
   ]
  },
  {
   "cell_type": "markdown",
   "id": "57f08aba",
   "metadata": {},
   "source": [
    "### Functions"
   ]
  },
  {
   "cell_type": "code",
   "execution_count": 96,
   "id": "75944728",
   "metadata": {},
   "outputs": [],
   "source": [
    "def transform_gas_res_dim_index(df, name):\n",
    "    rows = []\n",
    "\n",
    "    data = df[name].loc[3:,\"Unnamed: 2\":]\n",
    "    d_col = df[name].iloc[4:][\"Table of Contents\"]\n",
    "    for col in data:\n",
    "        temp_df = pd.DataFrame({\n",
    "            \"Dimension\": d_col,\n",
    "        })\n",
    "        if data[col].iloc[0] == \"Rank\":\n",
    "            temp_df[data[col].iloc[0]] = data[col][1:]\n",
    "        else:\n",
    "            label = data[col].iloc[0]\n",
    "            temp_df[\"Brand Name\"] = label\n",
    "            temp_df[\"Mean\"] = data[col][1:]\n",
    "        rows.append(temp_df)\n",
    "    return rows"
   ]
  },
  {
   "cell_type": "markdown",
   "id": "dde60cc7",
   "metadata": {},
   "source": [
    "### Get Q2 2025 and Q2 YTD 2025"
   ]
  },
  {
   "cell_type": "code",
   "execution_count": 97,
   "id": "14ab4946",
   "metadata": {},
   "outputs": [],
   "source": [
    "q2_1 = transform_gas_res_dim_index(q_df, grdi)\n",
    "ytd_1 = transform_gas_res_dim_index(ytd_df, grdi_2)"
   ]
  },
  {
   "cell_type": "code",
   "execution_count": 98,
   "id": "e09f41d6",
   "metadata": {},
   "outputs": [],
   "source": [
    "q2_1 = concat_df_rows(q2_1,[\"Dimension\"])\n",
    "ytd_1 = concat_df_rows(ytd_1,[\"Dimension\"])"
   ]
  },
  {
   "cell_type": "code",
   "execution_count": 99,
   "id": "63e5e98a",
   "metadata": {},
   "outputs": [],
   "source": [
    "q2_1 = replace_dimensions(q2_1)"
   ]
  },
  {
   "cell_type": "code",
   "execution_count": 100,
   "id": "230eae97",
   "metadata": {},
   "outputs": [],
   "source": [
    "ytd_1 = replace_dimensions(ytd_1)"
   ]
  },
  {
   "cell_type": "markdown",
   "id": "7c3ad6a1",
   "metadata": {},
   "source": [
    "# Tranform KPI %s Met Not-Met all brands\n",
    "We will transform this sheet into `KPI % All Brands` sheet in the transformed Q2 and YTD data"
   ]
  },
  {
   "cell_type": "markdown",
   "id": "54a951f7",
   "metadata": {},
   "source": [
    "### Sheet(s)"
   ]
  },
  {
   "cell_type": "code",
   "execution_count": 101,
   "id": "d168135e",
   "metadata": {},
   "outputs": [],
   "source": [
    "q2_kpi = q2_sheetnames[1]"
   ]
  },
  {
   "cell_type": "code",
   "execution_count": 102,
   "id": "eb83913c",
   "metadata": {},
   "outputs": [],
   "source": [
    "ytd_kpi = ytd_sheetnames[1]"
   ]
  },
  {
   "cell_type": "markdown",
   "id": "5c69a181",
   "metadata": {},
   "source": [
    "### Functions"
   ]
  },
  {
   "cell_type": "code",
   "execution_count": 103,
   "id": "1883f4cf",
   "metadata": {},
   "outputs": [],
   "source": [
    "def transform_kpi_brands(df, name):\n",
    "    rows = []\n",
    "    o_col = df[name].loc[3:,\"Unnamed: 2\":]\n",
    "    q_col = df[name].iloc[5:][\"Table of Contents\"].ffill()\n",
    "    met = df[name].iloc[5:][\"Unnamed: 1\"] \n",
    "    for col in o_col:\n",
    "        temp_df = pd.DataFrame({\n",
    "            \"Question\": q_col,\n",
    "            \"Met\": met\n",
    "        })\n",
    "        if o_col[col].iloc[1] == \"%\":\n",
    "            temp_df[\"%\"] = o_col[col].iloc[2:]\n",
    "        else:\n",
    "            temp_df[\"Rank\"] = o_col[col].iloc[2:]\n",
    "        rows.append(temp_df)\n",
    "    return rows"
   ]
  },
  {
   "cell_type": "code",
   "execution_count": 104,
   "id": "77b2a772",
   "metadata": {},
   "outputs": [],
   "source": [
    "# def turn_to_percent(df, col):\n",
    "#     df[col] = df[col].astype(float)\n",
    "#     df[col] = np.round(df[col])\n",
    "#     df[col] = df[col].astype(int)\n",
    "#     return df"
   ]
  },
  {
   "cell_type": "markdown",
   "id": "137fcfed",
   "metadata": {},
   "source": [
    "### Get Q2 2025 and Q2 YTD 2025"
   ]
  },
  {
   "cell_type": "code",
   "execution_count": 105,
   "id": "2854d9fa",
   "metadata": {},
   "outputs": [],
   "source": [
    "q2_kpi_df = concat_df_rows(transform_kpi_brands(q_df,q2_kpi), [\"Question\", \"Met\"])"
   ]
  },
  {
   "cell_type": "code",
   "execution_count": 106,
   "id": "98a3c3b2",
   "metadata": {},
   "outputs": [],
   "source": [
    "q2_kpi_df = turn_to_percent(q2_kpi_df,\"%\")"
   ]
  },
  {
   "cell_type": "code",
   "execution_count": 107,
   "id": "3aabe5eb",
   "metadata": {},
   "outputs": [],
   "source": [
    "ytd_kpi_df = concat_df_rows(transform_kpi_brands(ytd_df,ytd_kpi),[\"Question\",\"Met\"])"
   ]
  },
  {
   "cell_type": "code",
   "execution_count": 108,
   "id": "b1f6de71",
   "metadata": {},
   "outputs": [],
   "source": [
    "ytd_kpi_df = turn_to_percent(ytd_kpi_df,\"%\")"
   ]
  },
  {
   "cell_type": "markdown",
   "id": "7c0bb304",
   "metadata": {},
   "source": [
    "# PSEG KPIs by Dimension Transformation\n",
    "We will transform the `PSEG KPIs by Dimensions Index Met Not-Met and base size` into the `PSEG KPIs` sheet. We will also create a separate table containing the differences between met and not met."
   ]
  },
  {
   "cell_type": "markdown",
   "id": "84044830",
   "metadata": {},
   "source": [
    "### Sheet(s)"
   ]
  },
  {
   "cell_type": "code",
   "execution_count": 109,
   "id": "d8f1fc79",
   "metadata": {},
   "outputs": [],
   "source": [
    "q2_pseg_kpi = q2_sheetnames[2]"
   ]
  },
  {
   "cell_type": "code",
   "execution_count": 110,
   "id": "b95acedf",
   "metadata": {},
   "outputs": [],
   "source": [
    "ytd_pseg_kpi = ytd_sheetnames[2]"
   ]
  },
  {
   "cell_type": "markdown",
   "id": "6ac18ae3",
   "metadata": {},
   "source": [
    "### Functions"
   ]
  },
  {
   "cell_type": "code",
   "execution_count": 111,
   "id": "e13b7471",
   "metadata": {},
   "outputs": [],
   "source": [
    "def transform_pseg_kpi(df, name):\n",
    "    rows = []\n",
    "    q_col = df[name].iloc[4:][\"Table of Contents\"].ffill()\n",
    "    met = df[name].iloc[4:][\"Unnamed: 1\"]\n",
    "    o_col = df[name].loc[2:,\"Unnamed: 2\":]\n",
    "\n",
    "    for col in o_col:\n",
    "        temp_df = pd.DataFrame({\n",
    "            \"Question\": q_col,\n",
    "            \"Met\": met\n",
    "        })\n",
    "       \n",
    "        if o_col[col].iloc[1] == \"Mean\":\n",
    "            dim = o_col[col].iloc[0]\n",
    "            temp_df[\"Mean\"] = o_col[col].iloc[1:]\n",
    "            temp_df[\"Dimension\"] = dim\n",
    "        else:\n",
    "            temp_df[\"Unweighted base\"] = o_col[col].iloc[1:]\n",
    "            temp_df[\"Dimension\"] = dim\n",
    "        rows.append(temp_df)\n",
    "    return rows"
   ]
  },
  {
   "cell_type": "markdown",
   "id": "6f55a2b9",
   "metadata": {},
   "source": [
    "### Get Q2 2025 and Q2 YTD 2025"
   ]
  },
  {
   "cell_type": "code",
   "execution_count": 112,
   "id": "7a5e24ce",
   "metadata": {},
   "outputs": [],
   "source": [
    "q2_dim_kpi = transform_pseg_kpi(q_df, q2_pseg_kpi)"
   ]
  },
  {
   "cell_type": "code",
   "execution_count": 113,
   "id": "53515ff7",
   "metadata": {},
   "outputs": [],
   "source": [
    "q2_dim_kpi_df = concat_df_rows(q2_dim_kpi,[\"Question\",\"Dimension\",\"Met\"])"
   ]
  },
  {
   "cell_type": "code",
   "execution_count": 114,
   "id": "ce0fecf3",
   "metadata": {},
   "outputs": [],
   "source": [
    "q2_dim_kpi_df = replace_dimensions(q2_dim_kpi_df)"
   ]
  },
  {
   "cell_type": "markdown",
   "id": "099e697e",
   "metadata": {},
   "source": [
    "### Get Difference Table for Q2 and YTD"
   ]
  },
  {
   "cell_type": "code",
   "execution_count": 115,
   "id": "83654dd7",
   "metadata": {},
   "outputs": [],
   "source": [
    "def get_difference(df):\n",
    "    df1 = df.groupby(['Question', 'Dimension']).agg({\n",
    "    'Mean': lambda x: x.iloc[1] - x.iloc[0]\n",
    "}).reset_index()\n",
    "    df1.rename(columns={\"Mean\":\"Difference\"}, inplace=True)\n",
    "    return df1"
   ]
  },
  {
   "cell_type": "code",
   "execution_count": 116,
   "id": "5d8b5525",
   "metadata": {},
   "outputs": [],
   "source": [
    "q2_dim_diff = get_difference(q2_dim_kpi_df)"
   ]
  },
  {
   "cell_type": "code",
   "execution_count": 117,
   "id": "c5f85ede",
   "metadata": {},
   "outputs": [
    {
     "data": {
      "text/html": [
       "<div>\n",
       "<style scoped>\n",
       "    .dataframe tbody tr th:only-of-type {\n",
       "        vertical-align: middle;\n",
       "    }\n",
       "\n",
       "    .dataframe tbody tr th {\n",
       "        vertical-align: top;\n",
       "    }\n",
       "\n",
       "    .dataframe thead th {\n",
       "        text-align: right;\n",
       "    }\n",
       "</style>\n",
       "<table border=\"1\" class=\"dataframe\">\n",
       "  <thead>\n",
       "    <tr style=\"text-align: right;\">\n",
       "      <th></th>\n",
       "      <th>Question</th>\n",
       "      <th>Dimension</th>\n",
       "      <th>Difference</th>\n",
       "    </tr>\n",
       "  </thead>\n",
       "  <tbody>\n",
       "    <tr>\n",
       "      <th>0</th>\n",
       "      <td>Aware of assistance programs</td>\n",
       "      <td>Digital channels</td>\n",
       "      <td>138.672381</td>\n",
       "    </tr>\n",
       "    <tr>\n",
       "      <th>1</th>\n",
       "      <td>Aware of assistance programs</td>\n",
       "      <td>Ease of doing business</td>\n",
       "      <td>164.821303</td>\n",
       "    </tr>\n",
       "    <tr>\n",
       "      <th>2</th>\n",
       "      <td>Aware of assistance programs</td>\n",
       "      <td>Information provided</td>\n",
       "      <td>128.958479</td>\n",
       "    </tr>\n",
       "    <tr>\n",
       "      <th>3</th>\n",
       "      <td>Aware of assistance programs</td>\n",
       "      <td>Overall Satisfaction</td>\n",
       "      <td>138.140546</td>\n",
       "    </tr>\n",
       "    <tr>\n",
       "      <th>4</th>\n",
       "      <td>Aware of assistance programs</td>\n",
       "      <td>People</td>\n",
       "      <td>132.841335</td>\n",
       "    </tr>\n",
       "    <tr>\n",
       "      <th>...</th>\n",
       "      <td>...</td>\n",
       "      <td>...</td>\n",
       "      <td>...</td>\n",
       "    </tr>\n",
       "    <tr>\n",
       "      <th>157</th>\n",
       "      <td>Utility helped to lower bill by showing how to...</td>\n",
       "      <td>People</td>\n",
       "      <td>161.484377</td>\n",
       "    </tr>\n",
       "    <tr>\n",
       "      <th>158</th>\n",
       "      <td>Utility helped to lower bill by showing how to...</td>\n",
       "      <td>Problem resolution</td>\n",
       "      <td>153.350670</td>\n",
       "    </tr>\n",
       "    <tr>\n",
       "      <th>159</th>\n",
       "      <td>Utility helped to lower bill by showing how to...</td>\n",
       "      <td>Safety and reliability</td>\n",
       "      <td>124.711630</td>\n",
       "    </tr>\n",
       "    <tr>\n",
       "      <th>160</th>\n",
       "      <td>Utility helped to lower bill by showing how to...</td>\n",
       "      <td>Total monthly cost</td>\n",
       "      <td>116.678192</td>\n",
       "    </tr>\n",
       "    <tr>\n",
       "      <th>161</th>\n",
       "      <td>Utility helped to lower bill by showing how to...</td>\n",
       "      <td>Trust</td>\n",
       "      <td>76.749552</td>\n",
       "    </tr>\n",
       "  </tbody>\n",
       "</table>\n",
       "<p>162 rows × 3 columns</p>\n",
       "</div>"
      ],
      "text/plain": [
       "                                              Question  \\\n",
       "0                         Aware of assistance programs   \n",
       "1                         Aware of assistance programs   \n",
       "2                         Aware of assistance programs   \n",
       "3                         Aware of assistance programs   \n",
       "4                         Aware of assistance programs   \n",
       "..                                                 ...   \n",
       "157  Utility helped to lower bill by showing how to...   \n",
       "158  Utility helped to lower bill by showing how to...   \n",
       "159  Utility helped to lower bill by showing how to...   \n",
       "160  Utility helped to lower bill by showing how to...   \n",
       "161  Utility helped to lower bill by showing how to...   \n",
       "\n",
       "                  Dimension  Difference  \n",
       "0          Digital channels  138.672381  \n",
       "1    Ease of doing business  164.821303  \n",
       "2      Information provided  128.958479  \n",
       "3      Overall Satisfaction  138.140546  \n",
       "4                    People  132.841335  \n",
       "..                      ...         ...  \n",
       "157                  People  161.484377  \n",
       "158      Problem resolution  153.350670  \n",
       "159  Safety and reliability  124.711630  \n",
       "160      Total monthly cost  116.678192  \n",
       "161                   Trust   76.749552  \n",
       "\n",
       "[162 rows x 3 columns]"
      ]
     },
     "execution_count": 117,
     "metadata": {},
     "output_type": "execute_result"
    }
   ],
   "source": [
    "q2_dim_diff"
   ]
  },
  {
   "cell_type": "code",
   "execution_count": 118,
   "id": "d7fdfa77",
   "metadata": {},
   "outputs": [],
   "source": [
    "ytd_dim_kpi_df = transform_pseg_kpi(ytd_df,ytd_pseg_kpi)\n",
    "ytd_dim_kpi_df = concat_df_rows(ytd_dim_kpi_df,[\"Question\",\"Dimension\",\"Met\"])"
   ]
  },
  {
   "cell_type": "code",
   "execution_count": 119,
   "id": "84f68b51",
   "metadata": {},
   "outputs": [],
   "source": [
    "ytd_dim_diff = get_difference(ytd_dim_kpi_df)"
   ]
  },
  {
   "cell_type": "code",
   "execution_count": 120,
   "id": "d8e38d67",
   "metadata": {},
   "outputs": [],
   "source": [
    "ytd_dim_diff = replace_dimensions(ytd_dim_diff)"
   ]
  },
  {
   "cell_type": "markdown",
   "id": "d8fe9002",
   "metadata": {},
   "source": [
    "# Dimension KPIs %s & Rank\n",
    "This transformation `Dimension KPIs %s & Rank` will be using these sheets as input\n",
    "- Safety & Reliability KPIs %s & Rank Met Not-Met all brands\n",
    "- ProblemResolution KPI %s & Rank Met Not-Met all brands\n",
    "- Ease KI %s & Rank Met Not-Met all brands\n",
    "- Digital Channels KPI %s & Rank Met Not-Met all brands\n",
    "- People KPI %s & Rank Met Not-Met all brands\n",
    "- Cost KPI %s & Rank Met Not-Met all brands\n",
    "- Trust KPI %s & Rank Met Not-Met all brands\n",
    "- Information Provided KPI %s & Rank Met Not-Met all brands\n"
   ]
  },
  {
   "cell_type": "markdown",
   "id": "b4a02bcf",
   "metadata": {},
   "source": [
    "### Sheet(s)"
   ]
  },
  {
   "cell_type": "code",
   "execution_count": 121,
   "id": "5f008d94",
   "metadata": {},
   "outputs": [],
   "source": [
    "q2_k_r = q2_sheetnames[3:11]"
   ]
  },
  {
   "cell_type": "code",
   "execution_count": 122,
   "id": "e52b08f5",
   "metadata": {},
   "outputs": [],
   "source": [
    "ytd_k_r = ytd_sheetnames[3:11]"
   ]
  },
  {
   "cell_type": "markdown",
   "id": "c4f6872f",
   "metadata": {},
   "source": [
    "### Functions"
   ]
  },
  {
   "cell_type": "code",
   "execution_count": 123,
   "id": "22ddb2e0",
   "metadata": {},
   "outputs": [],
   "source": [
    "def transform_kpi_rank(df,name):\n",
    "    rows = []\n",
    "\n",
    "    q_col = df[name].iloc[5:][\"Table of Contents\"].ffill()\n",
    "    met = df[name].iloc[5:][\"Unnamed: 1\"]\n",
    "    o_col = df[name].loc[3:,\"Unnamed: 2\":]\n",
    "    \n",
    "    for col in o_col:\n",
    "        temp_df = pd.DataFrame({\n",
    "            \"Question\": q_col,\n",
    "            \"Met\": met,\n",
    "            \"Dimension\": name\n",
    "        })\n",
    "        if o_col[col].iloc[1] == \"%\":\n",
    "            temp_df[\"%\"] = o_col[col].iloc[1:]\n",
    "            bn = o_col[col].iloc[0]\n",
    "            temp_df[\"Brand Name\"] = bn\n",
    "        else:\n",
    "            temp_df[\"Rank\"] = o_col[col].iloc[1:]\n",
    "            temp_df[\"Brand Name\"] = bn\n",
    "        rows.append(temp_df)\n",
    "    return rows"
   ]
  },
  {
   "cell_type": "markdown",
   "id": "0411880f",
   "metadata": {},
   "source": [
    "### Get Q2 2025 and Q2 YTD 2025"
   ]
  },
  {
   "cell_type": "code",
   "execution_count": 124,
   "id": "9c1c7e21",
   "metadata": {},
   "outputs": [],
   "source": [
    "q_kpi_r_all = process_and_stack(q_df, q2_k_r, transform_kpi_rank,[\"Question\",\"Met\",\"Brand Name\",\"Dimension\"])"
   ]
  },
  {
   "cell_type": "code",
   "execution_count": 125,
   "id": "6fe2f103",
   "metadata": {},
   "outputs": [],
   "source": [
    "q_kpi_r_all = turn_to_percent(q_kpi_r_all,\"%\")"
   ]
  },
  {
   "cell_type": "code",
   "execution_count": 126,
   "id": "e87a65a9",
   "metadata": {},
   "outputs": [],
   "source": [
    "q_kpi_r_all[\"Dimension\"] = q_kpi_r_all[\"Dimension\"].apply(lambda x: x.split('KPI')[0].strip())"
   ]
  },
  {
   "cell_type": "code",
   "execution_count": 127,
   "id": "9de9f01c",
   "metadata": {},
   "outputs": [],
   "source": [
    "q_kpi_r_all = replace_dimensions(q_kpi_r_all)"
   ]
  },
  {
   "cell_type": "code",
   "execution_count": 128,
   "id": "c979490a",
   "metadata": {},
   "outputs": [],
   "source": [
    "ytd_kpi_r_all = process_and_stack(ytd_df,ytd_k_r,transform_kpi_rank,[\"Question\",\"Met\",\"Brand Name\",\"Dimension\"])\n",
    "ytd_kpi_r_all = turn_to_percent(ytd_kpi_r_all,\"%\")"
   ]
  },
  {
   "cell_type": "code",
   "execution_count": 129,
   "id": "cf5c7fb6",
   "metadata": {},
   "outputs": [],
   "source": [
    "ytd_kpi_r_all = replace_dimensions(ytd_kpi_r_all)"
   ]
  },
  {
   "cell_type": "code",
   "execution_count": 130,
   "id": "ec1d206c",
   "metadata": {},
   "outputs": [],
   "source": [
    "ytd_kpi_r_all[\"Dimension\"] = ytd_kpi_r_all[\"Dimension\"].apply(lambda x: x.split('KPI')[0].strip())"
   ]
  },
  {
   "cell_type": "code",
   "execution_count": 131,
   "id": "310a4788",
   "metadata": {},
   "outputs": [],
   "source": [
    "ytd_kpi_r_all = replace_dimensions(ytd_kpi_r_all)"
   ]
  },
  {
   "cell_type": "markdown",
   "id": "3a9c3ed4",
   "metadata": {},
   "source": [
    "# Demographics KPI Transformation\n",
    "We will transform the `PSEG Demographics KPI` into the `Demographics KPI` sheet."
   ]
  },
  {
   "cell_type": "markdown",
   "id": "27dd41aa",
   "metadata": {},
   "source": [
    "### Get Sheet(s)"
   ]
  },
  {
   "cell_type": "code",
   "execution_count": 132,
   "id": "cbe7c47b",
   "metadata": {},
   "outputs": [],
   "source": [
    "q_demo_name = q2_sheetnames[11]\n",
    "ytd_demo_name = ytd_sheetnames[11]"
   ]
  },
  {
   "cell_type": "markdown",
   "id": "85b8c50e",
   "metadata": {},
   "source": [
    "### Functions"
   ]
  },
  {
   "cell_type": "code",
   "execution_count": 133,
   "id": "666d260f",
   "metadata": {},
   "outputs": [],
   "source": [
    "def transform_demographics(df, name):\n",
    "    rows = []\n",
    "\n",
    "    d_col = df[name].iloc[4:][\"Table of Contents\"].ffill()\n",
    "    s_col = df[name].iloc[4:][\"Unnamed: 1\"]\n",
    "    o_col = df[name].loc[2:,\"Unnamed: 2\":]\n",
    "\n",
    "    for col in o_col:\n",
    "        temp_df = pd.DataFrame({\n",
    "            \"Demographic\": d_col,\n",
    "            \"Segment\": s_col\n",
    "        })\n",
    "        if o_col[col].iloc[1] == \"Mean\":\n",
    "            temp_df[\"Mean\"] = o_col[col].iloc[2:]\n",
    "        else:\n",
    "            temp_df[\"Unweighted base\"] = o_col[col].iloc[2:]\n",
    "        rows.append(temp_df)\n",
    "    return rows"
   ]
  },
  {
   "cell_type": "markdown",
   "id": "bdbaa2af",
   "metadata": {},
   "source": [
    "### Get Q2 2025 and Q2 YTD 2025"
   ]
  },
  {
   "cell_type": "code",
   "execution_count": 134,
   "id": "eed88bf4",
   "metadata": {},
   "outputs": [],
   "source": [
    "q_demo_df = concat_df_rows(transform_demographics(q_df, q_demo_name), [\"Demographic\", \"Segment\"])"
   ]
  },
  {
   "cell_type": "code",
   "execution_count": 135,
   "id": "08d13e79",
   "metadata": {},
   "outputs": [],
   "source": [
    "ytd_demo_df = concat_df_rows(transform_demographics(ytd_df,ytd_demo_name), [\"Demographic\", \"Segment\"])"
   ]
  },
  {
   "cell_type": "markdown",
   "id": "8b4db891",
   "metadata": {},
   "source": [
    "# County KPI Transformation\n",
    "We will transform the `PSEG County KPIs` into the `County KPI` sheet."
   ]
  },
  {
   "cell_type": "markdown",
   "id": "6b219c50",
   "metadata": {},
   "source": [
    "### Sheet(s)"
   ]
  },
  {
   "cell_type": "code",
   "execution_count": 136,
   "id": "7eb32698",
   "metadata": {},
   "outputs": [],
   "source": [
    "q_c_name = q2_sheetnames[12]\n",
    "ytd_c_name = ytd_sheetnames[12]"
   ]
  },
  {
   "cell_type": "markdown",
   "id": "b66c5179",
   "metadata": {},
   "source": [
    "### Functions"
   ]
  },
  {
   "cell_type": "code",
   "execution_count": 137,
   "id": "86061e61",
   "metadata": {},
   "outputs": [],
   "source": [
    "def transform_county(df, name):\n",
    "    rows = []\n",
    "    c_col = df[name].iloc[4:][\"Unnamed: 1\"]\n",
    "    o_col = df[name].loc[2:,\"Unnamed: 2\":]\n",
    "    for col in o_col:\n",
    "        temp_df = pd.DataFrame({\n",
    "            \"County\": c_col\n",
    "        })\n",
    "        if o_col[col].iloc[1] == \"Mean\":\n",
    "            dim = o_col[col].iloc[0]\n",
    "            temp_df[\"Mean\"] = o_col[col].iloc[2:]\n",
    "            temp_df[\"Dimension\"] = dim\n",
    "        else:\n",
    "            temp_df[\"Unweighted base\"] = o_col[col].iloc[2:]\n",
    "            temp_df[\"Dimension\"] = dim\n",
    "        rows.append(temp_df)\n",
    "    return rows\n"
   ]
  },
  {
   "cell_type": "markdown",
   "id": "d45361b2",
   "metadata": {},
   "source": [
    "### Get Q2 2025 and Q2 YTD 2025"
   ]
  },
  {
   "cell_type": "code",
   "execution_count": 138,
   "id": "1f0a162f",
   "metadata": {},
   "outputs": [],
   "source": [
    "q_c_df = transform_county(q_df, q_c_name)\n",
    "ytd_c_df = transform_county(ytd_df, ytd_c_name)"
   ]
  },
  {
   "cell_type": "code",
   "execution_count": 139,
   "id": "4e40a47f",
   "metadata": {},
   "outputs": [],
   "source": [
    "q_c_df = concat_df_rows(q_c_df, [\"Dimension\",\"County\"])\n",
    "ytd_c_df = concat_df_rows(ytd_c_df,[\"Dimension\",\"County\"])"
   ]
  },
  {
   "cell_type": "code",
   "execution_count": 140,
   "id": "bdefd2bd",
   "metadata": {},
   "outputs": [],
   "source": [
    "q_c_df = replace_dimensions(q_c_df)\n",
    "ytd_c_df = replace_dimensions(ytd_c_df)"
   ]
  },
  {
   "cell_type": "markdown",
   "id": "8b3fc530",
   "metadata": {},
   "source": [
    "# Tranform NPS\n",
    "We will transform the `NPS Groups all brands` into the `NPS Score all brands` sheet."
   ]
  },
  {
   "cell_type": "markdown",
   "id": "9e4f7b6e",
   "metadata": {},
   "source": [
    "### Get sheet(s)"
   ]
  },
  {
   "cell_type": "code",
   "execution_count": 141,
   "id": "09352e58",
   "metadata": {},
   "outputs": [],
   "source": [
    "q_nps_1 = q2_sheetnames[13]\n",
    "q_nps_2 = q2_sheetnames[14]\n"
   ]
  },
  {
   "cell_type": "code",
   "execution_count": 142,
   "id": "6b638ccc",
   "metadata": {},
   "outputs": [],
   "source": [
    "ytd_nps_1 = ytd_sheetnames[13]\n",
    "ytd_nps_2 = ytd_sheetnames[14]"
   ]
  },
  {
   "cell_type": "markdown",
   "id": "8db17674",
   "metadata": {},
   "source": [
    "### Functions"
   ]
  },
  {
   "cell_type": "code",
   "execution_count": 143,
   "id": "9f0a2fd8",
   "metadata": {},
   "outputs": [],
   "source": [
    "def transform_nps(df, n1, n2):\n",
    "    rows = []\n",
    "\n",
    "    o_col_1 = df[n1].loc[3:,\"Table of Contents\":]\n",
    "\n",
    "    o_col_2 = df[n2].loc[3:,\"Unnamed: 2\":]\n",
    "    l2 = o_col_2.iloc[1:]\n",
    "    \n",
    "    g_df = pd.DataFrame({})\n",
    "    g_df[o_col_2.iloc[0]] =  l2\n",
    "\n",
    "\n",
    "    for col in o_col_1:\n",
    "        label = o_col_1[col].iloc[0]\n",
    "        temp_df = pd.DataFrame({\n",
    "            label: o_col_1[col].iloc[1:]\n",
    "        })\n",
    "\n",
    "        rows.append(temp_df)\n",
    "    rows.append(g_df)\n",
    "    del rows[0]\n",
    "    del rows[1]\n",
    "   \n",
    "    combined = pd.concat(rows, axis=1)\n",
    "    combined.columns = combined.columns.fillna(\"Brand Name\")\n",
    "    return combined\n",
    "    "
   ]
  },
  {
   "cell_type": "markdown",
   "id": "d4480f2e",
   "metadata": {},
   "source": [
    "### Get Q2 2025 and Q2 YTD 2025"
   ]
  },
  {
   "cell_type": "code",
   "execution_count": 144,
   "id": "2699fb43",
   "metadata": {},
   "outputs": [],
   "source": [
    "q_nps_df = transform_nps(q_df,q_nps_1,q_nps_2)\n",
    "ytd_nps_df = transform_nps(ytd_df, ytd_nps_1, ytd_nps_2)"
   ]
  },
  {
   "cell_type": "markdown",
   "id": "8ada7702",
   "metadata": {},
   "source": [
    "# Transform PSEG Dimension Index Scores\n",
    "These sheets will be transformed into the `PSEG Dimension Index Scores` sheet:\n",
    "- PSEG Cost Index Score Met Not-Met and base size\n",
    "- PSEG Safety Index Score Met Not-Met and base size\n",
    "- PSEG Problem Resolution Index Score Met Not-Met and base size\n",
    "- PSEG Ease Index Score Met Not-Met and base size\n",
    "- PSEG Digital Channels Index Score Met Not-Met and base size\n",
    "- PSEG People Index Score Met Not-Met and base size\n",
    "- PSEG Trust Index Score Met Not-Met and base size\n",
    "- PSEG Info Provided Score Met Not-Met and base size\n"
   ]
  },
  {
   "cell_type": "markdown",
   "id": "95d22b36",
   "metadata": {},
   "source": [
    "### Get Sheet(s)"
   ]
  },
  {
   "cell_type": "code",
   "execution_count": 145,
   "id": "2cd87b10",
   "metadata": {},
   "outputs": [],
   "source": [
    "q_idxs = q2_sheetnames[15:23]"
   ]
  },
  {
   "cell_type": "code",
   "execution_count": 146,
   "id": "a1e7360a",
   "metadata": {},
   "outputs": [],
   "source": [
    "ytd_idxs = ytd_sheetnames[15:23]"
   ]
  },
  {
   "cell_type": "markdown",
   "id": "24f86a98",
   "metadata": {},
   "source": [
    "### Functions"
   ]
  },
  {
   "cell_type": "code",
   "execution_count": 147,
   "id": "79b1e5c3",
   "metadata": {},
   "outputs": [],
   "source": [
    "def transform_dim_index(df, name):\n",
    "    rows = []\n",
    "    q_col = df[name].iloc[4:][\"Table of Contents\"].ffill()\n",
    "    met = df[name].iloc[4:][\"Unnamed: 1\"]\n",
    "    o_col = df[name].loc[2:,\"Unnamed: 2\":]\n",
    "    label = o_col.iloc[0][\"Unnamed: 2\"]\n",
    "    for col in o_col:\n",
    "        temp_df = pd.DataFrame({\n",
    "            \"Question\": q_col,\n",
    "            o_col[col].iloc[1]: o_col[col].iloc[2:],\n",
    "            \"Dimension\": label,\n",
    "            \"Met\": met\n",
    "        })\n",
    "        rows.append(temp_df)\n",
    "    return rows"
   ]
  },
  {
   "cell_type": "markdown",
   "id": "e9543e56",
   "metadata": {},
   "source": [
    "### Get Q2 2025 and Q2 YTD 2025"
   ]
  },
  {
   "cell_type": "code",
   "execution_count": 148,
   "id": "fd2f97ec",
   "metadata": {},
   "outputs": [],
   "source": [
    "q_idx_df = process_and_stack(q_df,q_idxs,transform_dim_index,[\"Question\",\"Dimension\",\"Met\"])"
   ]
  },
  {
   "cell_type": "code",
   "execution_count": 149,
   "id": "931ea4c3",
   "metadata": {},
   "outputs": [],
   "source": [
    "q_idx_df = replace_dimensions(q_idx_df)"
   ]
  },
  {
   "cell_type": "code",
   "execution_count": 150,
   "id": "feb82aab",
   "metadata": {},
   "outputs": [],
   "source": [
    "ytd_idx_df = process_and_stack(ytd_df, ytd_idxs, transform_dim_index,[\"Question\",\"Dimension\",\"Met\"])"
   ]
  },
  {
   "cell_type": "code",
   "execution_count": 151,
   "id": "6bd4fa56",
   "metadata": {},
   "outputs": [],
   "source": [
    "ytd_idx_df = replace_dimensions(ytd_idx_df)"
   ]
  },
  {
   "cell_type": "markdown",
   "id": "718271d5",
   "metadata": {},
   "source": [
    "# Transform All Historicals\n",
    "| Section       | Transformation Description |\n",
    "|---------------|----------------------------|\n",
    "| East Large | `East Large Historical KPIs %s` will be transformed into `East Large Historical`. |\n",
    "| PSEG       | `PSEG Historical %s Met Not Met` will be transformed into `PSEG Historical`. |\n",
    "| Dimensions | These sheets will be transformed into `Dimension Historicals`. |\n"
   ]
  },
  {
   "cell_type": "code",
   "execution_count": 152,
   "id": "5841740e",
   "metadata": {},
   "outputs": [],
   "source": [
    "# East Large Historical Sheet(s)\n",
    "elh_q_name = q2_sheetnames[23]\n",
    "elh_ytd_name = ytd_sheetnames[23]"
   ]
  },
  {
   "cell_type": "code",
   "execution_count": 153,
   "id": "e043233c",
   "metadata": {},
   "outputs": [],
   "source": [
    "# PSEG Historical Sheet(s)\n",
    "plh_q_name = q2_sheetnames[24]\n",
    "plh_ytd_name = ytd_sheetnames[24]"
   ]
  },
  {
   "cell_type": "code",
   "execution_count": 154,
   "id": "7785b8eb",
   "metadata": {},
   "outputs": [],
   "source": [
    "# Dimensions Historical Sheet(s)\n",
    "q_dim_names = q2_sheetnames[25:]\n",
    "ytd_dim_names = ytd_sheetnames[25:]"
   ]
  },
  {
   "cell_type": "markdown",
   "id": "43960541",
   "metadata": {},
   "source": [
    "### Functions"
   ]
  },
  {
   "cell_type": "code",
   "execution_count": 155,
   "id": "95983f87",
   "metadata": {},
   "outputs": [],
   "source": [
    "def transform_historicals(df, name):\n",
    "    rows = []\n",
    "\n",
    "    q_col = df[name].iloc[5:][\"Table of Contents\"].ffill()\n",
    "    met = df[name].iloc[5:][\"Unnamed: 1\"]\n",
    "    o_col = df[name].loc[3:,\"Unnamed: 2\":]\n",
    "\n",
    "    for col in o_col:\n",
    "        label = o_col[col].iloc[0]\n",
    "        percent = o_col[col].iloc[1]\n",
    "        temp_df = pd.DataFrame({\n",
    "            \"Question\": q_col,\n",
    "            \"Met\": met,\n",
    "            \"Quarter\": label,\n",
    "            percent: o_col[col].iloc[2:]\n",
    "        })\n",
    "        rows.append(temp_df)\n",
    "        final_df = pd.concat(rows, axis=0)\n",
    "    return final_df"
   ]
  },
  {
   "cell_type": "markdown",
   "id": "c6f770b9",
   "metadata": {},
   "source": [
    "### Get Q2 and YTD data for East Large Historical"
   ]
  },
  {
   "cell_type": "code",
   "execution_count": 156,
   "id": "75977ad0",
   "metadata": {},
   "outputs": [],
   "source": [
    "q_e_df = transform_historicals(q_df, elh_q_name)\n",
    "q_e_df[\"%\"] = q_e_df[\"%\"] * 100\n",
    "q_e_df = turn_to_percent(q_e_df,\"%\")\n"
   ]
  },
  {
   "cell_type": "code",
   "execution_count": 157,
   "id": "2934208f",
   "metadata": {},
   "outputs": [],
   "source": [
    "ytd_e_df = transform_historicals(ytd_df, elh_ytd_name)\n",
    "ytd_e_df[\"%\"] = ytd_e_df[\"%\"] * 100\n",
    "ytd_e_df = turn_to_percent(ytd_e_df, \"%\")"
   ]
  },
  {
   "cell_type": "markdown",
   "id": "3318de2c",
   "metadata": {},
   "source": [
    "### Q2 and YTD data for PSEG Historical"
   ]
  },
  {
   "cell_type": "code",
   "execution_count": 158,
   "id": "26ac6d90",
   "metadata": {},
   "outputs": [],
   "source": [
    "q_p_df = transform_historicals(q_df, plh_q_name)\n",
    "q_p_df[\"%\"] = q_p_df[\"%\"] * 100\n",
    "q_p_df = turn_to_percent(q_p_df,\"%\")"
   ]
  },
  {
   "cell_type": "code",
   "execution_count": 159,
   "id": "a63b9eb0",
   "metadata": {},
   "outputs": [],
   "source": [
    "ytd_p_df = transform_historicals(ytd_df,plh_ytd_name)\n",
    "ytd_p_df[\"%\"] = ytd_p_df[\"%\"] * 100\n",
    "ytd_p_df = turn_to_percent(ytd_p_df, \"%\")"
   ]
  },
  {
   "cell_type": "markdown",
   "id": "00413033",
   "metadata": {},
   "source": [
    "### Q2 and YTD data for Dimension Historicals"
   ]
  },
  {
   "cell_type": "code",
   "execution_count": 160,
   "id": "8cbe0144",
   "metadata": {},
   "outputs": [],
   "source": [
    "q_combined_hist = [transform_historicals(q_df,name) for name in q_dim_names]"
   ]
  },
  {
   "cell_type": "code",
   "execution_count": 161,
   "id": "82bd4712",
   "metadata": {},
   "outputs": [],
   "source": [
    "q_combined_hist = pd.concat(q_combined_hist, axis=0)\n",
    "q_combined_hist[\"%\"] = q_combined_hist[\"%\"] * 100\n",
    "q_combined_hist = turn_to_percent(q_combined_hist,\"%\")"
   ]
  },
  {
   "cell_type": "code",
   "execution_count": 162,
   "id": "9dbb82db",
   "metadata": {},
   "outputs": [],
   "source": [
    "ytd_combined_hist = [transform_historicals(ytd_df,name) for name in ytd_dim_names]"
   ]
  },
  {
   "cell_type": "code",
   "execution_count": 163,
   "id": "a0c28a3b",
   "metadata": {},
   "outputs": [],
   "source": [
    "ytd_combined_hist = pd.concat(ytd_combined_hist,axis=0)\n",
    "ytd_combined_hist[\"%\"] = ytd_combined_hist[\"%\"] * 100\n",
    "ytd_combined_hist = turn_to_percent(ytd_combined_hist,\"%\")"
   ]
  },
  {
   "cell_type": "markdown",
   "id": "d5a3b1a2",
   "metadata": {},
   "source": [
    "# After completing all the transformations\n",
    "We will save new sheets to the `transformed_data` folder"
   ]
  },
  {
   "cell_type": "markdown",
   "id": "0c14bc63",
   "metadata": {},
   "source": [
    "### Q2 Dataframes created for `transformed_data`\n",
    "- Toplines\n",
    "- KPI % All Brands\n",
    "- PSEG KPIs\n",
    "- Dimension KPIs %s & Rank\n",
    "- Demographics KPI\n",
    "- County KPI\n",
    "- NPS\n",
    "- PSEG Dimension Index Scores\n",
    "- East Large Historical KPIs %s\n",
    "- PSEG Historical KPIs %s Met Not-Met\n",
    "- PSEG Dimension Historical %s"
   ]
  },
  {
   "cell_type": "code",
   "execution_count": 164,
   "id": "999e5fe4",
   "metadata": {},
   "outputs": [],
   "source": [
    "dfs_to_export = {\n",
    "    'Toplines': q2_1,\n",
    "    'KPI % All Brands': q2_kpi_df,\n",
    "    'PSEG KPIs Met Not Met': q2_dim_kpi_df,\n",
    "    'PSEG KPIs Difference': q2_dim_diff,\n",
    "    'Dimension KPIs %s & Rank': q_kpi_r_all,\n",
    "    'Demographics KPI': q_demo_df,\n",
    "    'County KPI': q_c_df,\n",
    "    'NPS': q_nps_df,\n",
    "    'PSEG Dimension Index Scores': q_idx_df,\n",
    "    'East Large Historical': q_e_df,\n",
    "    'PSEG Historical': q_p_df,\n",
    "    'Dimensions Historical': q_combined_hist\n",
    "}\n",
    "\n",
    "with pd.ExcelWriter(r'transformed_data\\gas_residential_2025_q2.xlsx') as writer:\n",
    "    for sheet_name, df in dfs_to_export.items():\n",
    "        df.to_excel(writer, sheet_name=sheet_name, index=False)\n"
   ]
  },
  {
   "cell_type": "markdown",
   "id": "df8b7961",
   "metadata": {},
   "source": [
    "### YTD Dataframes created for `transformed_data`\n",
    "- Toplines\n",
    "- KPI % All Brands\n",
    "- PSEG KPIs\n",
    "- Dimension KPIs %s & Rank\n",
    "- Demographics KPI\n",
    "- County KPI\n",
    "- NPS\n",
    "- PSEG Dimension Index Scores\n",
    "- East Large Historical KPIs %s\n",
    "- PSEG Historical KPIs %s Met Not-Met\n",
    "- PSEG Dimension Historical %s"
   ]
  },
  {
   "cell_type": "code",
   "execution_count": 165,
   "id": "93273898",
   "metadata": {},
   "outputs": [],
   "source": [
    "dfs_to_export = {\n",
    "    'Toplines': ytd_1,\n",
    "    'KPI % All Brands': ytd_kpi_df,\n",
    "    'PSEG KPIs Met Not Met': ytd_dim_kpi_df,\n",
    "    'PSEG KPIs Difference': ytd_dim_diff,\n",
    "    'Dimension KPIs %s & Rank': ytd_kpi_r_all,\n",
    "    'Demographics KPI': ytd_demo_df,\n",
    "    'County': ytd_c_df,\n",
    "    'NPS': ytd_nps_df,\n",
    "    'PSEG Dimension Index Scores': ytd_idx_df,\n",
    "    'East Large Historical': ytd_e_df,\n",
    "    'PSEG Historical': ytd_p_df,\n",
    "    'Dimensions Historical': ytd_combined_hist\n",
    "}\n",
    "\n",
    "with pd.ExcelWriter(r'transformed_data\\gas_residential_2025_q2_ytd.xlsx') as writer:\n",
    "    for sheet_name, df in dfs_to_export.items():\n",
    "        df.to_excel(writer, sheet_name=sheet_name, index=False)\n"
   ]
  }
 ],
 "metadata": {
  "kernelspec": {
   "display_name": "Python 3",
   "language": "python",
   "name": "python3"
  },
  "language_info": {
   "codemirror_mode": {
    "name": "ipython",
    "version": 3
   },
   "file_extension": ".py",
   "mimetype": "text/x-python",
   "name": "python",
   "nbconvert_exporter": "python",
   "pygments_lexer": "ipython3",
   "version": "3.13.5"
  }
 },
 "nbformat": 4,
 "nbformat_minor": 5
}
